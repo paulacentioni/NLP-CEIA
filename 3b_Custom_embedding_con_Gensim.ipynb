{
  "cells": [
    {
      "cell_type": "markdown",
      "metadata": {
        "id": "sZd5yLnnHOK0"
      },
      "source": [
        "<img src=\"https://github.com/hernancontigiani/ceia_memorias_especializacion/raw/master/Figures/logoFIUBA.jpg\" width=\"500\" align=\"center\">\n",
        "\n",
        "\n",
        "# Procesamiento de lenguaje natural\n",
        "## Custom embedddings con Gensim\n",
        "\n"
      ]
    },
    {
      "cell_type": "markdown",
      "metadata": {
        "id": "vA7nqkumo9z9"
      },
      "source": [
        "### Objetivo\n",
        "El objetivo es utilizar documentos / corpus para crear embeddings de palabras basado en ese contexto. Se utilizará canciones de bandas para generar los embeddings, es decir, que los vectores tendrán la forma en función de como esa banda haya utilizado las palabras en sus canciones."
      ]
    },
    {
      "cell_type": "code",
      "execution_count": 1,
      "metadata": {
        "id": "lFToQs5FK5uZ"
      },
      "outputs": [],
      "source": [
        "import pandas as pd\n",
        "import matplotlib.pyplot as plt\n",
        "import seaborn as sns\n",
        "\n",
        "import multiprocessing\n",
        "from gensim.models import Word2Vec\n",
        "import os\n",
        "import glob, pickle, time\n",
        "import re\n",
        "import unicodedata"
      ]
    },
    {
      "cell_type": "code",
      "source": [
        "from google.colab import drive\n",
        "drive.mount('/content/drive')\n"
      ],
      "metadata": {
        "colab": {
          "base_uri": "https://localhost:8080/"
        },
        "id": "Fh2HvywxKPTr",
        "outputId": "e759e7b5-2406-461b-f5f6-f64bf981e9a3"
      },
      "execution_count": 2,
      "outputs": [
        {
          "output_type": "stream",
          "name": "stdout",
          "text": [
            "Mounted at /content/drive\n"
          ]
        }
      ]
    },
    {
      "cell_type": "markdown",
      "metadata": {
        "id": "g07zJxG7H9vG"
      },
      "source": [
        "### Datos\n",
        "Utilizaremos como dataset el libro los juegos del hambre"
      ]
    },
    {
      "cell_type": "code",
      "source": [
        "import os\n",
        "\n",
        "# Ruta de la carpeta que contiene los libros\n",
        "dataset_path = '/content/drive/My Drive/Colab Notebooks/hungergames.txt'\n",
        "\n",
        "# Lista para almacenar los capítulos\n",
        "corpus = []\n",
        "\n",
        "# Abro el archivo y lee las líneas\n",
        "with open(dataset_path, 'r', encoding='utf-8') as file:\n",
        "    lines = file.readlines()\n",
        "\n",
        "# Inicializo una variable para el capítulo actual\n",
        "current_chapter = ''\n",
        "\n",
        "# Recorro las líneas del archivo\n",
        "for line in lines:\n",
        "    # la línea contiene el nombre del capítulo entre guiones bajos\n",
        "    if re.match(r'_+\\s+\\d+\\s+_+', line):\n",
        "        # Agrego el capítulo actual al corpus si no está vacío\n",
        "        if current_chapter:\n",
        "            corpus.append(current_chapter.strip())\n",
        "        # Inicializo el capítulo actual con la línea actual\n",
        "        current_chapter = line\n",
        "    else:\n",
        "        # Agrego la línea al capítulo actual\n",
        "        current_chapter += line\n",
        "\n",
        "# Añado el último capítulo al corpus\n",
        "if current_chapter:\n",
        "    corpus.append(current_chapter.strip())\n",
        "\n",
        "# Imprimo el número de capítulos y el corpus\n",
        "print(f'Número de capítulos: {len(corpus)}')\n",
        "\n"
      ],
      "metadata": {
        "colab": {
          "base_uri": "https://localhost:8080/"
        },
        "id": "MFxB0zBz-F8j",
        "outputId": "5a64a900-9718-4d2a-cf1b-46bbc6d46bc8"
      },
      "execution_count": 3,
      "outputs": [
        {
          "output_type": "stream",
          "name": "stdout",
          "text": [
            "Número de capítulos: 28\n"
          ]
        }
      ]
    },
    {
      "cell_type": "code",
      "source": [
        "# Inicializa una lista para almacenar las oraciones\n",
        "sentences = []\n",
        "\n",
        "# Divido cada capítulo en oraciones\n",
        "for text in corpus:\n",
        "    chapter_sentences = text.split('.')\n",
        "    chapter_sentences = [sentence.strip() for sentence in chapter_sentences if sentence.strip()]\n",
        "    sentences.extend(chapter_sentences)\n",
        "\n",
        "df = pd.DataFrame({'Oraciones': sentences})\n",
        "print(\"Cantidad de oraciones:\", df.shape[0])\n",
        "\n"
      ],
      "metadata": {
        "colab": {
          "base_uri": "https://localhost:8080/"
        },
        "id": "FPCh8M5yWYfH",
        "outputId": "a0cb092d-3760-44aa-cdb0-be81435c78b4"
      },
      "execution_count": 5,
      "outputs": [
        {
          "output_type": "stream",
          "name": "stdout",
          "text": [
            "Cantidad de oraciones: 5960\n"
          ]
        }
      ]
    },
    {
      "cell_type": "markdown",
      "metadata": {
        "id": "ab94qaFlrA1G"
      },
      "source": [
        "### 1 - Preprocesamiento"
      ]
    },
    {
      "cell_type": "code",
      "execution_count": 6,
      "metadata": {
        "id": "rIsmMWmjrDHd"
      },
      "outputs": [],
      "source": [
        "from keras.preprocessing.text import text_to_word_sequence\n",
        "\n",
        "sentence_tokens = []\n",
        "# Recorrer todas las filas y transformar las oraciones\n",
        "# en una secuencia de palabras (esto podría realizarse con NLTK o spaCy también)\n",
        "for _, row in df[:None].iterrows():\n",
        "    sentence_tokens.append(text_to_word_sequence(row[0]))"
      ]
    },
    {
      "cell_type": "code",
      "execution_count": 7,
      "metadata": {
        "id": "CHepi_DGrbhq",
        "colab": {
          "base_uri": "https://localhost:8080/"
        },
        "outputId": "ed8c03b7-8b86-4743-87dc-7f64967d8fd8"
      },
      "outputs": [
        {
          "output_type": "execute_result",
          "data": {
            "text/plain": [
              "[['los', 'juegos', 'del', 'hambre', 'saga', 'distritos', 'vol'],\n",
              " ['1',\n",
              "  'suzanne',\n",
              "  'collins',\n",
              "  '©',\n",
              "  '2008',\n",
              "  'the',\n",
              "  'hunger',\n",
              "  'games',\n",
              "  'traducción',\n",
              "  'pilar',\n",
              "  'ramírez',\n",
              "  'tello',\n",
              "  'primera',\n",
              "  'parte',\n",
              "  'los',\n",
              "  'tributos']]"
            ]
          },
          "metadata": {},
          "execution_count": 7
        }
      ],
      "source": [
        "# Demos un vistazo\n",
        "sentence_tokens[:2]"
      ]
    },
    {
      "cell_type": "markdown",
      "metadata": {
        "id": "BaXV6nlHr5Aa"
      },
      "source": [
        "### 2 - Crear los vectores (word2vec)"
      ]
    },
    {
      "cell_type": "code",
      "execution_count": 8,
      "metadata": {
        "id": "OSb0v7h8r7hK"
      },
      "outputs": [],
      "source": [
        "from gensim.models.callbacks import CallbackAny2Vec\n",
        "# Durante el entrenamiento gensim por defecto no informa el \"loss\" en cada época\n",
        "# Sobrecargamos el callback para poder tener esta información\n",
        "class callback(CallbackAny2Vec):\n",
        "    \"\"\"\n",
        "    Callback to print loss after each epoch\n",
        "    \"\"\"\n",
        "    def __init__(self):\n",
        "        self.epoch = 0\n",
        "\n",
        "    def on_epoch_end(self, model):\n",
        "        loss = model.get_latest_training_loss()\n",
        "        if self.epoch == 0:\n",
        "            print('Loss after epoch {}: {}'.format(self.epoch, loss))\n",
        "        else:\n",
        "            print('Loss after epoch {}: {}'.format(self.epoch, loss- self.loss_previous_step))\n",
        "        self.epoch += 1\n",
        "        self.loss_previous_step = loss"
      ]
    },
    {
      "cell_type": "code",
      "execution_count": 9,
      "metadata": {
        "id": "i0wnDdv9sJ47"
      },
      "outputs": [],
      "source": [
        "# Crearmos el modelo generador de vectores\n",
        "# En este caso utilizaremos la estructura modelo Skipgram\n",
        "w2v_model = Word2Vec(min_count=10,    # frecuencia mínima de palabra para incluirla en el vocabulario\n",
        "                     window=2,       # cant de palabras antes y desp de la predicha\n",
        "                     vector_size=300,       # dimensionalidad de los vectores\n",
        "                     negative=20,    # cantidad de negative samples... 0 es no se usa\n",
        "                     workers=1,      # si tienen más cores pueden cambiar este valor\n",
        "                     sg=1)           # modelo 0:CBOW  1:skipgram"
      ]
    },
    {
      "cell_type": "code",
      "execution_count": 10,
      "metadata": {
        "id": "5lTt8wErsf17"
      },
      "outputs": [],
      "source": [
        "# Obtener el vocabulario con los tokens\n",
        "w2v_model.build_vocab(sentence_tokens)"
      ]
    },
    {
      "cell_type": "code",
      "execution_count": 11,
      "metadata": {
        "id": "TNc9qt4os5AT",
        "colab": {
          "base_uri": "https://localhost:8080/"
        },
        "outputId": "2116c3b6-5e30-493e-e49e-1d6a91999f8c"
      },
      "outputs": [
        {
          "output_type": "stream",
          "name": "stdout",
          "text": [
            "Cantidad de docs en el corpus: 5960\n"
          ]
        }
      ],
      "source": [
        "# Cantidad de filas/docs encontradas en el corpus\n",
        "print(\"Cantidad de docs en el corpus:\", w2v_model.corpus_count)"
      ]
    },
    {
      "cell_type": "code",
      "execution_count": 12,
      "metadata": {
        "id": "idw9cHF3tSMl",
        "colab": {
          "base_uri": "https://localhost:8080/"
        },
        "outputId": "06e8a65c-ca32-43ee-8091-b6a43de84a5c"
      },
      "outputs": [
        {
          "output_type": "stream",
          "name": "stdout",
          "text": [
            "Cantidad de words distintas en el corpus: 1087\n"
          ]
        }
      ],
      "source": [
        "# Cantidad de words encontradas en el corpus\n",
        "print(\"Cantidad de words distintas en el corpus:\", len(w2v_model.wv.index_to_key))"
      ]
    },
    {
      "cell_type": "markdown",
      "metadata": {
        "id": "fC9mZ8DPk-UC"
      },
      "source": [
        "### 3 - Entrenar embeddings"
      ]
    },
    {
      "cell_type": "code",
      "execution_count": 13,
      "metadata": {
        "id": "QSp-x0PAsq56",
        "colab": {
          "base_uri": "https://localhost:8080/"
        },
        "outputId": "23bd566b-42a5-4b8e-88df-a7d7e092637e"
      },
      "outputs": [
        {
          "output_type": "stream",
          "name": "stdout",
          "text": [
            "Loss after epoch 0: 637908.6875\n",
            "Loss after epoch 1: 515134.0625\n",
            "Loss after epoch 2: 457866.125\n",
            "Loss after epoch 3: 454233.75\n",
            "Loss after epoch 4: 390123.875\n",
            "Loss after epoch 5: 384437.25\n",
            "Loss after epoch 6: 383309.75\n",
            "Loss after epoch 7: 382378.25\n",
            "Loss after epoch 8: 379159.25\n",
            "Loss after epoch 9: 366769.5\n",
            "Loss after epoch 10: 353877.5\n",
            "Loss after epoch 11: 351512.5\n",
            "Loss after epoch 12: 348936.0\n",
            "Loss after epoch 13: 347521.5\n",
            "Loss after epoch 14: 345057.0\n",
            "Loss after epoch 15: 343871.5\n",
            "Loss after epoch 16: 341785.0\n",
            "Loss after epoch 17: 339720.5\n",
            "Loss after epoch 18: 339970.5\n",
            "Loss after epoch 19: 337894.0\n",
            "Loss after epoch 20: 335762.5\n",
            "Loss after epoch 21: 331018.0\n",
            "Loss after epoch 22: 320677.0\n",
            "Loss after epoch 23: 317040.0\n",
            "Loss after epoch 24: 317809.0\n",
            "Loss after epoch 25: 316242.0\n",
            "Loss after epoch 26: 315318.0\n",
            "Loss after epoch 27: 314164.0\n",
            "Loss after epoch 28: 313424.0\n",
            "Loss after epoch 29: 312494.0\n"
          ]
        },
        {
          "output_type": "execute_result",
          "data": {
            "text/plain": [
              "(1523519, 3001050)"
            ]
          },
          "metadata": {},
          "execution_count": 13
        }
      ],
      "source": [
        "# Entrenamos el modelo generador de vectores\n",
        "# Utilizamos nuestro callback\n",
        "w2v_model.train(sentence_tokens,\n",
        "                 total_examples=w2v_model.corpus_count,\n",
        "                 epochs=30,\n",
        "                 compute_loss = True,\n",
        "                 callbacks=[callback()]\n",
        "                 )"
      ]
    },
    {
      "cell_type": "markdown",
      "metadata": {
        "id": "ddT9NVuNlCAe"
      },
      "source": [
        "### 4 - Ensayar"
      ]
    },
    {
      "cell_type": "code",
      "execution_count": 14,
      "metadata": {
        "id": "6cHN9xGLuPEm",
        "colab": {
          "base_uri": "https://localhost:8080/"
        },
        "outputId": "b9fd4263-d77b-4ebd-e6f6-10bcc95b1dee"
      },
      "outputs": [
        {
          "output_type": "execute_result",
          "data": {
            "text/plain": [
              "[('3', 0.5885858535766602),\n",
              " ('trabajo', 0.5846183896064758),\n",
              " ('mentor', 0.5808099508285522),\n",
              " ('importante', 0.5627768039703369),\n",
              " ('viejo', 0.5624746680259705),\n",
              " ('vencedor', 0.5612919926643372),\n",
              " ('juego', 0.5591087937355042),\n",
              " ('carro', 0.5576795935630798),\n",
              " ('12', 0.5543392300605774),\n",
              " ('haberse', 0.540571928024292)]"
            ]
          },
          "metadata": {},
          "execution_count": 14
        }
      ],
      "source": [
        "# Palabras que MÁS se relacionan con...:\n",
        "w2v_model.wv.most_similar(positive=[\"tributo\"], topn=10)"
      ]
    },
    {
      "cell_type": "code",
      "source": [
        "# Palabras que MÁS se relacionan con...:\n",
        "w2v_model.wv.most_similar(positive=[\"hambre\"], topn=10)"
      ],
      "metadata": {
        "colab": {
          "base_uri": "https://localhost:8080/"
        },
        "id": "J_udu5_jYnFl",
        "outputId": "788d0808-453b-4aee-de61-e652d45f6466"
      },
      "execution_count": 41,
      "outputs": [
        {
          "output_type": "execute_result",
          "data": {
            "text/plain": [
              "[('quieren', 0.4632849395275116),\n",
              " ('muerta', 0.45178642868995667),\n",
              " ('reacción', 0.43618372082710266),\n",
              " ('tus', 0.43526989221572876),\n",
              " ('¡no', 0.4338763952255249),\n",
              " ('vencedores', 0.42313113808631897),\n",
              " ('estos', 0.41975682973861694),\n",
              " ('vivos', 0.4159022569656372),\n",
              " ('creía', 0.41153037548065186),\n",
              " ('año', 0.40934479236602783)]"
            ]
          },
          "metadata": {},
          "execution_count": 41
        }
      ]
    },
    {
      "cell_type": "code",
      "source": [
        "w2v_model.wv.most_similar(positive=[\"peeta\"], topn=10)"
      ],
      "metadata": {
        "colab": {
          "base_uri": "https://localhost:8080/"
        },
        "id": "G_f_2ed6boFa",
        "outputId": "dc1f00af-ddc6-4f78-eccd-9175cc2ef2bc"
      },
      "execution_count": 48,
      "outputs": [
        {
          "output_type": "execute_result",
          "data": {
            "text/plain": [
              "[('¡peeta', 0.5389680862426758),\n",
              " ('asiento', 0.49447181820869446),\n",
              " ('¿dónde', 0.49078357219696045),\n",
              " ('madge', 0.47503069043159485),\n",
              " ('oh', 0.4642370939254761),\n",
              " ('rabia', 0.44612911343574524),\n",
              " ('sienta', 0.44378402829170227),\n",
              " ('¿lo', 0.4376392960548401),\n",
              " ('duda', 0.43658649921417236),\n",
              " ('solo', 0.4334806203842163)]"
            ]
          },
          "metadata": {},
          "execution_count": 48
        }
      ]
    },
    {
      "cell_type": "code",
      "execution_count": 15,
      "metadata": {
        "id": "47HiU5gdkdMq",
        "colab": {
          "base_uri": "https://localhost:8080/"
        },
        "outputId": "e00d0d2b-0af6-4228-8470-67d2e993c7dc"
      },
      "outputs": [
        {
          "output_type": "execute_result",
          "data": {
            "text/plain": [
              "[('hay', -0.02148137241601944),\n",
              " ('llegar', -0.04958915710449219),\n",
              " ('estadio', -0.053203269839286804),\n",
              " ('ciudad', -0.06511428952217102),\n",
              " ('son', -0.06651492416858673),\n",
              " ('horas', -0.07456271350383759),\n",
              " ('cuantas', -0.0791088119149208),\n",
              " ('cuatro', -0.08140630275011063),\n",
              " ('hojas', -0.0841616615653038),\n",
              " ('campo', -0.08501248061656952)]"
            ]
          },
          "metadata": {},
          "execution_count": 15
        }
      ],
      "source": [
        "# Palabras que MENOS se relacionan con...:\n",
        "w2v_model.wv.most_similar(negative=[\"peeta\"], topn=10)"
      ]
    },
    {
      "cell_type": "code",
      "execution_count": 16,
      "metadata": {
        "id": "DT4Rvno2mD65",
        "colab": {
          "base_uri": "https://localhost:8080/"
        },
        "outputId": "d3096218-5f7e-488b-bdb6-ba29ded31f7e"
      },
      "outputs": [
        {
          "output_type": "execute_result",
          "data": {
            "text/plain": [
              "[('2', 0.6834509968757629),\n",
              " ('3', 0.6495717167854309),\n",
              " ('11', 0.6151982545852661),\n",
              " ('4', 0.6035338044166565),\n",
              " ('12', 0.5962912440299988),\n",
              " ('1', 0.5893728733062744),\n",
              " ('carro', 0.5748105645179749),\n",
              " ('quedarse', 0.5603776574134827),\n",
              " ('cadáver', 0.557036280632019),\n",
              " ('pareja', 0.5547200441360474)]"
            ]
          },
          "metadata": {},
          "execution_count": 16
        }
      ],
      "source": [
        "# Palabras que MÁS se relacionan con...:\n",
        "w2v_model.wv.most_similar(positive=[\"distrito\"], topn=10)"
      ]
    },
    {
      "cell_type": "code",
      "execution_count": 31,
      "metadata": {
        "id": "XPLDPgzBmQXt",
        "colab": {
          "base_uri": "https://localhost:8080/"
        },
        "outputId": "35811f58-76c3-4bfe-ce54-ced5ec3b7828"
      },
      "outputs": [
        {
          "output_type": "execute_result",
          "data": {
            "text/plain": [
              "[('carcaj', 0.7306239604949951),\n",
              " ('cinturón', 0.5926663875579834),\n",
              " ('flechas', 0.5925911664962769),\n",
              " ('cuchillo', 0.5764560699462891),\n",
              " ('posición', 0.5206767320632935),\n",
              " ('juego', 0.5116968154907227),\n",
              " ('lanzo', 0.5080978274345398),\n",
              " ('cojo', 0.5058712363243103),\n",
              " ('hombro', 0.5021395683288574),\n",
              " ('hoja', 0.5017749667167664)]"
            ]
          },
          "metadata": {},
          "execution_count": 31
        }
      ],
      "source": [
        "# Palabras que MÁS se relacionan con...:\n",
        "w2v_model.wv.most_similar(positive=[\"arco\"], topn=10)"
      ]
    },
    {
      "cell_type": "code",
      "source": [
        "# Palabras que MÁS se relacionan con...:\n",
        "w2v_model.wv.most_similar(positive=[\"sobrevivir\"], topn=10)"
      ],
      "metadata": {
        "colab": {
          "base_uri": "https://localhost:8080/"
        },
        "id": "ON9Mr8YIYJdJ",
        "outputId": "acae6a81-06ca-4cfd-e37f-30d283eb8f9a"
      },
      "execution_count": 36,
      "outputs": [
        {
          "output_type": "execute_result",
          "data": {
            "text/plain": [
              "[('matar', 0.6614676117897034),\n",
              " ('haberlo', 0.6133893728256226),\n",
              " ('empezar', 0.6106350421905518),\n",
              " ('patrocinadores', 0.6092326045036316),\n",
              " ('conseguir', 0.6075491309165955),\n",
              " ('vivir', 0.5747507810592651),\n",
              " ('éxito', 0.5747399926185608),\n",
              " ('ello', 0.5731070637702942),\n",
              " ('entrar', 0.5646550059318542),\n",
              " ('darle', 0.5596312880516052)]"
            ]
          },
          "metadata": {},
          "execution_count": 36
        }
      ]
    },
    {
      "cell_type": "code",
      "execution_count": 30,
      "metadata": {
        "id": "L_UvHPMMklOr",
        "colab": {
          "base_uri": "https://localhost:8080/"
        },
        "outputId": "95d4e6cc-8ddf-4fd1-d998-f756cdaeeb0a"
      },
      "outputs": [
        {
          "output_type": "execute_result",
          "data": {
            "text/plain": [
              "[('vencedores', 0.6508707404136658),\n",
              " ('vivir', 0.6208860278129578),\n",
              " ('juntos', 0.6141685247421265),\n",
              " ('tuviese', 0.6121072769165039),\n",
              " ('tendrán', 0.609208345413208),\n",
              " ('pareja', 0.5931529998779297),\n",
              " ('reglas', 0.5916980504989624),\n",
              " ('patrocinadores', 0.5871109962463379),\n",
              " ('seguimos', 0.5845211148262024),\n",
              " ('viendo', 0.5795626640319824)]"
            ]
          },
          "metadata": {},
          "execution_count": 30
        }
      ],
      "source": [
        "# Palabras que MÁS se relacionan con...:\n",
        "w2v_model.wv.most_similar(positive=[\"ganar\"], topn=10)"
      ]
    },
    {
      "cell_type": "code",
      "execution_count": 19,
      "metadata": {
        "id": "84bwBOtGGbsi",
        "colab": {
          "base_uri": "https://localhost:8080/"
        },
        "outputId": "f368f0e7-2575-4153-a179-5e696e02a2ed"
      },
      "outputs": [
        {
          "output_type": "stream",
          "name": "stdout",
          "text": [
            "[ 5.29887199e-01  3.27084899e-01 -3.21644880e-02 -2.23858595e-01\n",
            "  5.18327318e-02 -9.26573016e-03  3.62304807e-01  1.30542830e-01\n",
            "  2.90606096e-02  7.10215941e-02  1.36427149e-01 -1.56318590e-01\n",
            " -2.89924622e-01  5.26733279e-01 -8.44235420e-02 -8.27237591e-02\n",
            "  1.12002261e-01  2.06472158e-01  7.77824074e-02  1.27979973e-02\n",
            "  8.77769962e-02 -1.52230442e-01  3.29303704e-02  2.24135369e-01\n",
            " -7.83382952e-02 -8.92772898e-03 -2.13668942e-01  1.49978464e-02\n",
            " -1.59502357e-01 -2.21605241e-01  1.44510180e-01 -1.14951290e-01\n",
            " -9.32073146e-02  7.81046972e-02 -1.62562415e-01  4.83121067e-01\n",
            "  4.41701770e-01 -3.03260148e-01  3.91030610e-01 -5.52405939e-02\n",
            " -2.64506519e-01 -1.68704949e-02  1.08179405e-01 -1.59265280e-01\n",
            "  1.76367313e-01  1.52895227e-01  2.39540368e-01  4.60776180e-01\n",
            "  6.79257438e-02  8.53202268e-02  4.65844601e-01 -2.92748790e-02\n",
            "  1.39548391e-01 -6.25228435e-02 -8.81098136e-02  1.29076734e-01\n",
            " -2.87963688e-01 -2.78228223e-01  1.14980549e-01  2.96932131e-01\n",
            " -6.15359321e-02 -2.38211930e-01  1.33390039e-01  9.07054693e-02\n",
            "  2.59069115e-01 -7.64718875e-02 -1.08512174e-02  1.79880664e-01\n",
            " -9.25443247e-02  2.97657065e-02  5.13148904e-02  2.13846490e-01\n",
            " -4.95165028e-02  6.29073828e-02  5.49393892e-01 -1.86730072e-01\n",
            "  3.07670265e-01 -3.99153531e-01 -7.57770315e-02 -2.52590537e-01\n",
            " -9.43150371e-02 -5.66154540e-01 -4.77761269e-01  1.41405374e-01\n",
            " -1.96051434e-01 -3.88510302e-02 -1.68185513e-02  5.96144348e-02\n",
            " -1.15473323e-01 -5.10511279e-01 -8.02518055e-02 -3.15316290e-01\n",
            "  2.13541299e-01  2.82679200e-01  4.66160297e-01 -2.51671337e-02\n",
            "  5.65820694e-01  1.32671058e-01 -5.18243574e-02 -1.55547798e-01\n",
            " -4.71363552e-02  4.08625036e-01  3.50683093e-01  3.77364576e-01\n",
            "  3.34646031e-02 -2.49530986e-01 -6.11431420e-01 -1.86541885e-01\n",
            " -1.49259374e-01  8.28126073e-02 -2.23399475e-01 -1.57679483e-01\n",
            " -1.01202518e-01 -1.82326853e-01  7.13019148e-02  2.20706075e-01\n",
            " -1.31672159e-01 -7.95188732e-03  5.05190372e-01 -3.99916887e-01\n",
            " -8.39039311e-03 -1.66376606e-02  5.69112152e-02  1.74336478e-01\n",
            " -1.13091737e-01  8.97749327e-03 -1.70743644e-01 -3.35984260e-01\n",
            " -9.32101682e-02  1.83959771e-02  3.11529756e-01  5.67419112e-01\n",
            " -3.38941365e-02 -3.56687188e-01 -3.81793156e-02 -1.72881663e-01\n",
            "  1.03066660e-01 -1.30671849e-02 -1.04053833e-01 -2.40972072e-01\n",
            " -3.17478091e-01 -2.80397236e-01 -2.37443343e-01 -1.72335327e-01\n",
            "  9.24684033e-02  1.04948973e-04 -6.17873780e-02  1.73086569e-01\n",
            " -2.74021745e-01 -1.31829590e-01  2.57714361e-01 -1.57794937e-01\n",
            " -8.07882622e-02  1.66491531e-02 -5.71302399e-02 -4.05668318e-02\n",
            " -2.01017827e-01 -3.90387117e-03 -8.40476900e-02  1.69591710e-01\n",
            "  2.19143495e-01 -2.85949200e-01 -2.05767248e-03  3.54073733e-01\n",
            "  1.52417287e-01  5.76560088e-02  2.64007777e-01 -1.39166236e-01\n",
            "  3.10144097e-01 -2.51436178e-02  2.25204229e-01  3.31437476e-02\n",
            " -2.95079798e-01  2.98517942e-01  3.20242077e-01  1.08370394e-01\n",
            " -1.71216786e-01  6.65682256e-02  4.12152588e-01  2.11634368e-01\n",
            " -4.53154832e-01  3.78182307e-02 -1.15254708e-01 -3.09569031e-01\n",
            "  2.17747897e-01  3.00496340e-01  2.33169481e-01  1.60340145e-01\n",
            "  1.91753566e-01 -8.14052881e-04  1.05727732e-01  1.38028473e-01\n",
            " -5.06943204e-02  3.41565490e-01 -1.46647319e-01  4.82007948e-04\n",
            " -5.51623758e-03 -2.93557703e-01  4.91421759e-01 -1.64976373e-01\n",
            " -6.06813878e-02 -4.71319109e-02  6.66828528e-02  3.24029922e-01\n",
            "  1.44441217e-01 -6.82533383e-02  1.62248183e-02 -1.14413146e-02\n",
            " -4.60711300e-01  2.11859941e-01  1.32668450e-01 -3.70112389e-01\n",
            "  2.02613533e-01 -8.05294365e-02  1.71145052e-02  9.74295214e-02\n",
            " -1.13992229e-01 -2.73097962e-01 -2.94477880e-01 -1.07200317e-01\n",
            "  2.04874709e-01  3.08461990e-02  5.92824109e-02 -2.92139143e-01\n",
            " -1.84969604e-01 -2.52781659e-01 -4.65940349e-02  1.51896209e-01\n",
            "  3.97937782e-02  1.01406649e-01  8.09508190e-02 -7.60422722e-02\n",
            " -4.57464494e-02  3.40477347e-01 -3.28872114e-01  2.55984098e-01\n",
            "  2.17425331e-01  3.55657488e-02  2.41096124e-01  1.62543401e-01\n",
            "  2.49948829e-01 -6.71580210e-02  1.04097061e-01  3.24526280e-02\n",
            "  1.71162546e-01 -1.18996337e-01  1.95785478e-01 -1.37420535e-01\n",
            "  6.36270717e-02  1.85057119e-01  3.29359293e-01 -2.10798055e-01\n",
            " -1.56898368e-02 -5.95599972e-02 -7.10091293e-02 -1.53607763e-02\n",
            " -5.22994297e-03  2.51726866e-01 -2.99242884e-01 -3.76224399e-01\n",
            "  2.12702006e-01 -3.26778367e-02  1.98879763e-01 -1.90948054e-01\n",
            " -3.40814203e-01 -1.58661589e-01  1.57133192e-01  3.05340737e-01\n",
            " -2.32449636e-01  3.68221402e-01 -1.26466095e-01 -2.31891036e-01\n",
            " -1.93061948e-01 -3.48126516e-02  2.33793810e-01  2.69092828e-01\n",
            "  2.17981026e-01  3.33127320e-01 -1.02139272e-01  3.26602042e-01\n",
            "  4.26373538e-03 -3.78406793e-01 -2.92033821e-01  1.06223941e-01\n",
            " -2.31610328e-01 -6.62604421e-02 -8.82361010e-02 -2.86180437e-01\n",
            " -3.04368604e-02  3.18561792e-02 -2.42164075e-01 -2.70601839e-01\n",
            "  1.10775307e-01 -1.76914185e-02  1.12371966e-01 -1.59907773e-01\n",
            "  1.71443343e-01 -2.65977681e-01 -2.67304461e-02  3.55790481e-02]\n"
          ]
        }
      ],
      "source": [
        "# el método `get_vector` permite obtener los vectores:\n",
        "vector_love = w2v_model.wv.get_vector(\"arco\")\n",
        "print(vector_love)"
      ]
    },
    {
      "cell_type": "code",
      "execution_count": 20,
      "metadata": {
        "id": "8zFyNxScGbsj",
        "colab": {
          "base_uri": "https://localhost:8080/"
        },
        "outputId": "ebbcc07b-cc21-4b5d-ce52-55b085d58374"
      },
      "outputs": [
        {
          "output_type": "execute_result",
          "data": {
            "text/plain": [
              "[('arco', 1.0),\n",
              " ('carcaj', 0.7306239604949951),\n",
              " ('cinturón', 0.5926663875579834),\n",
              " ('flechas', 0.5925911664962769),\n",
              " ('cuchillo', 0.5764560103416443),\n",
              " ('posición', 0.5206767320632935),\n",
              " ('juego', 0.5116968154907227),\n",
              " ('lanzo', 0.5080978274345398),\n",
              " ('cojo', 0.5058712363243103),\n",
              " ('hombro', 0.5021395683288574)]"
            ]
          },
          "metadata": {},
          "execution_count": 20
        }
      ],
      "source": [
        "# el método `most_similar` también permite comparar a partir de vectores\n",
        "w2v_model.wv.most_similar(vector_love)"
      ]
    },
    {
      "cell_type": "code",
      "execution_count": 46,
      "metadata": {
        "id": "dfTlHHOcGbsj",
        "colab": {
          "base_uri": "https://localhost:8080/"
        },
        "outputId": "918f13ab-e97d-4bde-8835-9d78f8d0ef57"
      },
      "outputs": [
        {
          "output_type": "execute_result",
          "data": {
            "text/plain": [
              "[('carcaj', 0.7306239604949951),\n",
              " ('cinturón', 0.5926663875579834),\n",
              " ('flechas', 0.5925911664962769),\n",
              " ('cuchillo', 0.5764560699462891),\n",
              " ('posición', 0.5206767320632935),\n",
              " ('juego', 0.5116968154907227),\n",
              " ('lanzo', 0.5080978274345398),\n",
              " ('cojo', 0.5058712363243103),\n",
              " ('hombro', 0.5021395683288574),\n",
              " ('hoja', 0.5017749667167664)]"
            ]
          },
          "metadata": {},
          "execution_count": 46
        }
      ],
      "source": [
        "# Palabras que MÁS se relacionan con...:\n",
        "w2v_model.wv.most_similar(positive=[\"arco\"], topn=10)"
      ]
    },
    {
      "cell_type": "code",
      "source": [
        "# Palabras que MÁS se relacionan con...:\n",
        "w2v_model.wv.most_similar(positive=[\"pareja\"], topn=10)"
      ],
      "metadata": {
        "colab": {
          "base_uri": "https://localhost:8080/"
        },
        "id": "-yLKXoSIakuW",
        "outputId": "6bc171cf-7d65-4711-889a-d6b14cc95416"
      },
      "execution_count": 47,
      "outputs": [
        {
          "output_type": "execute_result",
          "data": {
            "text/plain": [
              "[('real', 0.6856131553649902),\n",
              " ('vencedores', 0.6634766459465027),\n",
              " ('seguridad', 0.6529455184936523),\n",
              " ('alambrada', 0.6507955193519592),\n",
              " ('oportunidad', 0.6478244662284851),\n",
              " ('imagen', 0.6424364447593689),\n",
              " ('vencedor', 0.6397624015808105),\n",
              " ('4', 0.6386364102363586),\n",
              " ('única', 0.6359946727752686),\n",
              " ('palabra', 0.6337614059448242)]"
            ]
          },
          "metadata": {},
          "execution_count": 47
        }
      ]
    },
    {
      "cell_type": "markdown",
      "metadata": {
        "id": "_g8UVWe6lFmh"
      },
      "source": [
        "### 5 - Visualizar agrupación de vectores"
      ]
    },
    {
      "cell_type": "code",
      "execution_count": 22,
      "metadata": {
        "id": "pDxEVXAivjr9"
      },
      "outputs": [],
      "source": [
        "from sklearn.decomposition import IncrementalPCA\n",
        "from sklearn.manifold import TSNE\n",
        "import numpy as np\n",
        "\n",
        "def reduce_dimensions(model, num_dimensions = 2):\n",
        "\n",
        "    vectors = np.asarray(model.wv.vectors)\n",
        "    labels = np.asarray(model.wv.index_to_key)\n",
        "\n",
        "    tsne = TSNE(n_components=num_dimensions, random_state=0)\n",
        "    vectors = tsne.fit_transform(vectors)\n",
        "\n",
        "    return vectors, labels"
      ]
    },
    {
      "cell_type": "code",
      "execution_count": 23,
      "metadata": {
        "id": "NCCXtDpcugmd",
        "colab": {
          "base_uri": "https://localhost:8080/",
          "height": 542
        },
        "outputId": "29054fb9-3282-441b-92b8-b0475f3165f0"
      },
      "outputs": [
        {
          "output_type": "display_data",
          "data": {
            "text/html": [
              "<html>\n",
              "<head><meta charset=\"utf-8\" /></head>\n",
              "<body>\n",
              "    <div>            <script src=\"https://cdnjs.cloudflare.com/ajax/libs/mathjax/2.7.5/MathJax.js?config=TeX-AMS-MML_SVG\"></script><script type=\"text/javascript\">if (window.MathJax && window.MathJax.Hub && window.MathJax.Hub.Config) {window.MathJax.Hub.Config({SVG: {font: \"STIX-Web\"}});}</script>                <script type=\"text/javascript\">window.PlotlyConfig = {MathJaxConfig: 'local'};</script>\n",
              "        <script charset=\"utf-8\" src=\"https://cdn.plot.ly/plotly-2.24.1.min.js\"></script>                <div id=\"ecaa4e3b-e022-4c87-81fe-02a15fb5900b\" class=\"plotly-graph-div\" style=\"height:525px; width:100%;\"></div>            <script type=\"text/javascript\">                                    window.PLOTLYENV=window.PLOTLYENV || {};                                    if (document.getElementById(\"ecaa4e3b-e022-4c87-81fe-02a15fb5900b\")) {                    Plotly.newPlot(                        \"ecaa4e3b-e022-4c87-81fe-02a15fb5900b\",                        [{\"hovertemplate\":\"x=%{x}\\u003cbr\\u003ey=%{y}\\u003cbr\\u003etext=%{text}\\u003cextra\\u003e\\u003c\\u002fextra\\u003e\",\"legendgroup\":\"\",\"marker\":{\"color\":\"#636efa\",\"symbol\":\"circle\"},\"mode\":\"markers+text\",\"name\":\"\",\"orientation\":\"v\",\"showlegend\":false,\"text\":[\"de\",\"que\",\"la\",\"y\",\"el\",\"a\",\"en\",\"me\",\"no\",\"los\",\"un\",\"lo\",\"las\",\"se\",\"con\",\"una\",\"por\",\"para\",\"del\",\"es\",\"al\",\"pero\",\"mi\",\"peeta\",\"si\",\"m\\u00e1s\",\"como\",\"le\",\"su\",\"cuando\",\"sin\",\"est\\u00e1\",\"nos\",\"ha\",\"porque\",\"aunque\",\"yo\",\"despu\\u00e9s\",\"\\u00e9l\",\"todo\",\"distrito\",\"hasta\",\"ya\",\"as\\u00ed\",\"s\\u00e9\",\"s\\u00f3lo\",\"qu\\u00e9\",\"tengo\",\"haymitch\",\"te\",\"dos\",\"algo\",\"sobre\",\"m\\u00ed\",\"he\",\"nada\",\"vez\",\"tiene\",\"tan\",\"estoy\",\"o\",\"embargo\",\"hay\",\"todos\",\"puedo\",\"eso\",\"poco\",\"ella\",\"sus\",\"veo\",\"dice\",\"bien\",\"ni\",\"hace\",\"rue\",\"ahora\",\"muy\",\"momento\",\"mis\",\"mientras\",\"antes\",\"da\",\"mucho\",\"han\",\"chico\",\"cato\",\"s\\u00ed\",\"agua\",\"capitolio\",\"son\",\"ser\",\"\\u00bfqu\\u00e9\",\"tributos\",\"cabeza\",\"hab\\u00eda\",\"noche\",\"chica\",\"entonces\",\"prim\",\"menos\",\"tambi\\u00e9n\",\"otro\",\"madre\",\"ojos\",\"unos\",\"puede\",\"hecho\",\"mejor\",\"quiz\\u00e1\",\"comida\",\"est\\u00e1n\",\"c\\u00f3mo\",\"entre\",\"cuenta\",\"juegos\",\"doy\",\"hacer\",\"cinna\",\"siempre\",\"mano\",\"aqu\\u00ed\",\"casa\",\"gale\",\"tiempo\",\"d\\u00eda\",\"estar\",\"casi\",\"otra\",\"parece\",\"creo\",\"desde\",\"12\",\"bueno\",\"parte\",\"durante\",\"cara\",\"era\",\"suelo\",\"responde\",\"estaba\",\"verdad\",\"nunca\",\"podr\\u00eda\",\"hacia\",\"demasiado\",\"ellos\",\"esta\",\"siento\",\"lado\",\"nadie\",\"claro\",\"ver\",\"manos\",\"uno\",\"pregunto\",\"digo\",\"quiero\",\"effie\",\"bosque\",\"saco\",\"\\u00e1rbol\",\"profesionales\",\"decir\",\"oigo\",\"cosas\",\"gente\",\"les\",\"idea\",\"hambre\",\"cosa\",\"alguien\",\"este\",\"katniss\",\"arco\",\"soy\",\"voz\",\"bastante\",\"pelo\",\"pan\",\"dentro\",\"esto\",\"tu\",\"alg\\u00fan\",\"primera\",\"justo\",\"ma\\u00f1ana\",\"pregunta\",\"haber\",\"seguro\",\"sea\",\"adem\\u00e1s\",\"t\\u00fa\",\"padre\",\"unas\",\"estadio\",\"sol\",\"vida\",\"donde\",\"nosotros\",\"mismo\"],\"x\":[3.593993663787842,3.2123661041259766,4.99874210357666,3.2890422344207764,-4.147350311279297,0.6151369214057922,0.4475511610507965,-13.088787078857422,4.362990379333496,-17.04344940185547,-4.004597187042236,2.997852087020874,-12.347108840942383,-7.507210731506348,9.957724571228027,4.993364334106445,8.135075569152832,17.561054229736328,-4.8362274169921875,-1.8212705850601196,-3.8588478565216064,7.5346856117248535,12.287720680236816,10.248528480529785,11.268484115600586,-2.4712510108947754,-5.740329742431641,14.988393783569336,14.764178276062012,2.686936140060425,-1.5961381196975708,16.146991729736328,-9.787014961242676,-5.69448709487915,-5.017288684844971,-0.12067198008298874,13.340714454650879,-15.809904098510742,-10.079751968383789,7.939589023590088,-20.360088348388672,-13.871784210205078,6.965837478637695,-10.315754890441895,-1.9143339395523071,-9.401801109313965,10.903267860412598,1.939569354057312,15.185966491699219,8.982782363891602,-14.675545692443848,3.033247470855713,10.43494987487793,-0.34713348746299744,-7.351192474365234,4.13352632522583,9.349797248840332,-2.875781297683716,5.432888984680176,3.204500198364258,6.0934295654296875,-1.0727605819702148,-12.390192031860352,-15.362004280090332,1.417087435722351,13.245290756225586,0.07007912546396255,14.693760871887207,14.081416130065918,1.3743221759796143,13.747103691101074,9.19904899597168,10.864941596984863,-15.922747611999512,10.576154708862305,8.168777465820312,-0.8100641369819641,-6.8502516746521,-9.32234001159668,7.949169158935547,1.5129793882369995,-17.756202697753906,2.4486019611358643,-7.921001434326172,-20.274978637695312,0.06433098018169403,10.510490417480469,1.7835558652877808,-11.139575958251953,-12.010721206665039,4.566422462463379,10.441546440124512,-14.325807571411133,11.531645774841309,-7.985047340393066,13.886574745178223,6.822563171386719,-7.970422267913818,12.964869499206543,-10.113349914550781,16.189268112182617,-5.026284694671631,15.146903038024902,-5.86984395980835,-19.35064697265625,-0.660929799079895,-0.4608111083507538,-0.8250981569290161,-3.415870428085327,4.694400787353516,16.672748565673828,9.64590072631836,-11.644065856933594,17.62004852294922,-15.487015724182129,5.386159896850586,4.190887928009033,12.801532745361328,-2.4894485473632812,7.976840972900391,7.457794189453125,18.255218505859375,11.913439750671387,1.8493077754974365,-6.33500862121582,2.8784377574920654,-9.813709259033203,11.25710391998291,-5.120728015899658,-3.2406997680664062,-4.653446674346924,-18.808778762817383,8.796216011047363,8.873655319213867,-11.179797172546387,3.596475601196289,-0.5747774839401245,-1.3710098266601562,14.400580406188965,1.4526867866516113,12.043878555297852,0.7700181603431702,5.211423873901367,5.993478775024414,1.3427006006240845,16.443117141723633,9.870047569274902,-0.27948197722435,7.585303783416748,3.7304370403289795,10.037342071533203,-4.461419582366943,-6.721804141998291,-16.4549560546875,7.027801513671875,6.459326267242432,5.89918851852417,15.694199562072754,-8.155457496643066,-2.5181798934936523,2.0452828407287598,-15.709814071655273,4.976878643035889,-12.47752571105957,-10.110352516174316,7.035442352294922,2.279492139816284,7.721006393432617,17.767803192138672,6.769895076751709,3.6641571521759033,-3.9700732231140137,9.688629150390625,-3.0936670303344727,-0.5362139940261841,12.686066627502441,0.5058919191360474,1.5591179132461548,-7.024565696716309,1.9349902868270874,4.8629536628723145,14.246135711669922,-1.5264290571212769,10.065223693847656,-14.677528381347656,13.892058372497559,12.622118949890137,-5.586385250091553,2.5115089416503906,-4.769742488861084,-9.007135391235352,11.64434814453125,15.649076461791992,-12.556070327758789,-1.2289925813674927,-6.169213771820068,4.882696151733398,-7.986443042755127,2.464315176010132,14.744956970214844],\"xaxis\":\"x\",\"y\":[-5.39504337310791,10.324353218078613,-7.288809299468994,-6.49648904800415,-2.983107328414917,-6.116767406463623,-2.6713709831237793,13.392449378967285,10.394157409667969,-4.192195892333984,-3.5456418991088867,10.742456436157227,-6.5361785888671875,4.30278205871582,-11.885735511779785,-5.593090057373047,3.212362051010132,-3.850080728530884,-1.6075215339660645,8.626294136047363,-0.9015285968780518,4.829704761505127,-0.019942477345466614,3.635932207107544,11.663023948669434,4.742921352386475,11.280652046203613,1.6831766366958618,-4.480519771575928,-1.8518065214157104,2.4245166778564453,9.084033012390137,-0.49925467371940613,13.71823787689209,7.683857440948486,1.509769082069397,5.6234235763549805,3.7480998039245605,17.536775588989258,1.0798916816711426,2.149061918258667,8.50026798248291,3.7438793182373047,12.587611198425293,13.825871467590332,4.151206016540527,15.262899398803711,13.073495864868164,12.803844451904297,14.244105339050293,-7.485838413238525,2.60772705078125,-16.97010612487793,2.7613558769226074,15.438406944274902,9.953566551208496,-5.5654144287109375,15.59374713897705,4.890782833099365,8.62216854095459,1.8159377574920654,4.5603203773498535,0.23494023084640503,-5.005335807800293,13.711338996887207,3.795234203338623,-5.181773662567139,6.758299827575684,-10.77779769897461,-14.176481246948242,10.70777702331543,8.36728286743164,18.461971282958984,7.318434238433838,-9.296488761901855,7.833548069000244,7.4996418952941895,5.240746974945068,-10.993494987487793,-0.03259288892149925,-1.5477107763290405,5.4248199462890625,15.140976905822754,13.85882568359375,0.44762855768203735,0.4128301739692688,5.439967155456543,-5.957962989807129,-3.1070592403411865,-8.359861373901367,5.54112434387207,9.007746696472168,-2.2205252647399902,-8.522953033447266,14.791901588439941,-7.821353435516357,-4.903952121734619,19.19681167602539,0.5991348624229431,1.8135266304016113,0.3367977738380432,-0.5901780128479004,-1.7652387619018555,-17.98403549194336,-8.782100677490234,12.14869499206543,19.87767791748047,9.564892768859863,13.049982070922852,-1.2802006006240845,10.062417030334473,14.6989164352417,-16.543930053710938,1.8141286373138428,-2.296766519546509,-18.512008666992188,8.138429641723633,1.7523890733718872,12.020841598510742,-14.165873527526855,8.920001983642578,-0.3568999767303467,1.157343864440918,16.342761993408203,0.13933086395263672,8.520341873168945,-3.517768621444702,-3.0728750228881836,7.064387321472168,11.511009216308594,0.08382130414247513,2.0187883377075195,9.429729461669922,-4.012349605560303,2.5682287216186523,-14.52868938446045,14.909586906433105,-5.401747703552246,2.884913206100464,0.24097201228141785,8.452794075012207,19.653324127197266,17.400541305541992,-10.065082550048828,8.3270902633667,5.107709884643555,-2.4299728870391846,-6.846397876739502,-16.834270477294922,3.682826042175293,6.954614639282227,6.915844917297363,-12.166220664978027,-1.6900511980056763,13.967199325561523,7.916104793548584,14.693631172180176,12.014654159545898,-1.0753889083862305,-16.2944393157959,-9.474686622619629,-3.313586711883545,12.431425094604492,6.643167972564697,-8.423835754394531,-1.7057609558105469,18.5035400390625,2.3544554710388184,6.437199115753174,1.0861680507659912,2.5955193042755127,8.26064395904541,10.214376449584961,-17.07489585876465,14.129150390625,-1.6848623752593994,8.736916542053223,-17.271413803100586,0.5958968997001648,-5.807799339294434,8.872640609741211,0.2424381971359253,10.38401985168457,-7.026106357574463,10.703232765197754,-7.8107991218566895,10.464729309082031,15.643478393554688,21.436861038208008,11.722589492797852,0.260995090007782,9.725692749023438,-2.0733144283294678,-13.172945022583008,-0.3847440481185913,-3.725088119506836,1.6087456941604614,-4.6747565269470215,-1.094827651977539,5.126769065856934],\"yaxis\":\"y\",\"type\":\"scatter\"}],                        {\"template\":{\"data\":{\"histogram2dcontour\":[{\"type\":\"histogram2dcontour\",\"colorbar\":{\"outlinewidth\":0,\"ticks\":\"\"},\"colorscale\":[[0.0,\"#0d0887\"],[0.1111111111111111,\"#46039f\"],[0.2222222222222222,\"#7201a8\"],[0.3333333333333333,\"#9c179e\"],[0.4444444444444444,\"#bd3786\"],[0.5555555555555556,\"#d8576b\"],[0.6666666666666666,\"#ed7953\"],[0.7777777777777778,\"#fb9f3a\"],[0.8888888888888888,\"#fdca26\"],[1.0,\"#f0f921\"]]}],\"choropleth\":[{\"type\":\"choropleth\",\"colorbar\":{\"outlinewidth\":0,\"ticks\":\"\"}}],\"histogram2d\":[{\"type\":\"histogram2d\",\"colorbar\":{\"outlinewidth\":0,\"ticks\":\"\"},\"colorscale\":[[0.0,\"#0d0887\"],[0.1111111111111111,\"#46039f\"],[0.2222222222222222,\"#7201a8\"],[0.3333333333333333,\"#9c179e\"],[0.4444444444444444,\"#bd3786\"],[0.5555555555555556,\"#d8576b\"],[0.6666666666666666,\"#ed7953\"],[0.7777777777777778,\"#fb9f3a\"],[0.8888888888888888,\"#fdca26\"],[1.0,\"#f0f921\"]]}],\"heatmap\":[{\"type\":\"heatmap\",\"colorbar\":{\"outlinewidth\":0,\"ticks\":\"\"},\"colorscale\":[[0.0,\"#0d0887\"],[0.1111111111111111,\"#46039f\"],[0.2222222222222222,\"#7201a8\"],[0.3333333333333333,\"#9c179e\"],[0.4444444444444444,\"#bd3786\"],[0.5555555555555556,\"#d8576b\"],[0.6666666666666666,\"#ed7953\"],[0.7777777777777778,\"#fb9f3a\"],[0.8888888888888888,\"#fdca26\"],[1.0,\"#f0f921\"]]}],\"heatmapgl\":[{\"type\":\"heatmapgl\",\"colorbar\":{\"outlinewidth\":0,\"ticks\":\"\"},\"colorscale\":[[0.0,\"#0d0887\"],[0.1111111111111111,\"#46039f\"],[0.2222222222222222,\"#7201a8\"],[0.3333333333333333,\"#9c179e\"],[0.4444444444444444,\"#bd3786\"],[0.5555555555555556,\"#d8576b\"],[0.6666666666666666,\"#ed7953\"],[0.7777777777777778,\"#fb9f3a\"],[0.8888888888888888,\"#fdca26\"],[1.0,\"#f0f921\"]]}],\"contourcarpet\":[{\"type\":\"contourcarpet\",\"colorbar\":{\"outlinewidth\":0,\"ticks\":\"\"}}],\"contour\":[{\"type\":\"contour\",\"colorbar\":{\"outlinewidth\":0,\"ticks\":\"\"},\"colorscale\":[[0.0,\"#0d0887\"],[0.1111111111111111,\"#46039f\"],[0.2222222222222222,\"#7201a8\"],[0.3333333333333333,\"#9c179e\"],[0.4444444444444444,\"#bd3786\"],[0.5555555555555556,\"#d8576b\"],[0.6666666666666666,\"#ed7953\"],[0.7777777777777778,\"#fb9f3a\"],[0.8888888888888888,\"#fdca26\"],[1.0,\"#f0f921\"]]}],\"surface\":[{\"type\":\"surface\",\"colorbar\":{\"outlinewidth\":0,\"ticks\":\"\"},\"colorscale\":[[0.0,\"#0d0887\"],[0.1111111111111111,\"#46039f\"],[0.2222222222222222,\"#7201a8\"],[0.3333333333333333,\"#9c179e\"],[0.4444444444444444,\"#bd3786\"],[0.5555555555555556,\"#d8576b\"],[0.6666666666666666,\"#ed7953\"],[0.7777777777777778,\"#fb9f3a\"],[0.8888888888888888,\"#fdca26\"],[1.0,\"#f0f921\"]]}],\"mesh3d\":[{\"type\":\"mesh3d\",\"colorbar\":{\"outlinewidth\":0,\"ticks\":\"\"}}],\"scatter\":[{\"fillpattern\":{\"fillmode\":\"overlay\",\"size\":10,\"solidity\":0.2},\"type\":\"scatter\"}],\"parcoords\":[{\"type\":\"parcoords\",\"line\":{\"colorbar\":{\"outlinewidth\":0,\"ticks\":\"\"}}}],\"scatterpolargl\":[{\"type\":\"scatterpolargl\",\"marker\":{\"colorbar\":{\"outlinewidth\":0,\"ticks\":\"\"}}}],\"bar\":[{\"error_x\":{\"color\":\"#2a3f5f\"},\"error_y\":{\"color\":\"#2a3f5f\"},\"marker\":{\"line\":{\"color\":\"#E5ECF6\",\"width\":0.5},\"pattern\":{\"fillmode\":\"overlay\",\"size\":10,\"solidity\":0.2}},\"type\":\"bar\"}],\"scattergeo\":[{\"type\":\"scattergeo\",\"marker\":{\"colorbar\":{\"outlinewidth\":0,\"ticks\":\"\"}}}],\"scatterpolar\":[{\"type\":\"scatterpolar\",\"marker\":{\"colorbar\":{\"outlinewidth\":0,\"ticks\":\"\"}}}],\"histogram\":[{\"marker\":{\"pattern\":{\"fillmode\":\"overlay\",\"size\":10,\"solidity\":0.2}},\"type\":\"histogram\"}],\"scattergl\":[{\"type\":\"scattergl\",\"marker\":{\"colorbar\":{\"outlinewidth\":0,\"ticks\":\"\"}}}],\"scatter3d\":[{\"type\":\"scatter3d\",\"line\":{\"colorbar\":{\"outlinewidth\":0,\"ticks\":\"\"}},\"marker\":{\"colorbar\":{\"outlinewidth\":0,\"ticks\":\"\"}}}],\"scattermapbox\":[{\"type\":\"scattermapbox\",\"marker\":{\"colorbar\":{\"outlinewidth\":0,\"ticks\":\"\"}}}],\"scatterternary\":[{\"type\":\"scatterternary\",\"marker\":{\"colorbar\":{\"outlinewidth\":0,\"ticks\":\"\"}}}],\"scattercarpet\":[{\"type\":\"scattercarpet\",\"marker\":{\"colorbar\":{\"outlinewidth\":0,\"ticks\":\"\"}}}],\"carpet\":[{\"aaxis\":{\"endlinecolor\":\"#2a3f5f\",\"gridcolor\":\"white\",\"linecolor\":\"white\",\"minorgridcolor\":\"white\",\"startlinecolor\":\"#2a3f5f\"},\"baxis\":{\"endlinecolor\":\"#2a3f5f\",\"gridcolor\":\"white\",\"linecolor\":\"white\",\"minorgridcolor\":\"white\",\"startlinecolor\":\"#2a3f5f\"},\"type\":\"carpet\"}],\"table\":[{\"cells\":{\"fill\":{\"color\":\"#EBF0F8\"},\"line\":{\"color\":\"white\"}},\"header\":{\"fill\":{\"color\":\"#C8D4E3\"},\"line\":{\"color\":\"white\"}},\"type\":\"table\"}],\"barpolar\":[{\"marker\":{\"line\":{\"color\":\"#E5ECF6\",\"width\":0.5},\"pattern\":{\"fillmode\":\"overlay\",\"size\":10,\"solidity\":0.2}},\"type\":\"barpolar\"}],\"pie\":[{\"automargin\":true,\"type\":\"pie\"}]},\"layout\":{\"autotypenumbers\":\"strict\",\"colorway\":[\"#636efa\",\"#EF553B\",\"#00cc96\",\"#ab63fa\",\"#FFA15A\",\"#19d3f3\",\"#FF6692\",\"#B6E880\",\"#FF97FF\",\"#FECB52\"],\"font\":{\"color\":\"#2a3f5f\"},\"hovermode\":\"closest\",\"hoverlabel\":{\"align\":\"left\"},\"paper_bgcolor\":\"white\",\"plot_bgcolor\":\"#E5ECF6\",\"polar\":{\"bgcolor\":\"#E5ECF6\",\"angularaxis\":{\"gridcolor\":\"white\",\"linecolor\":\"white\",\"ticks\":\"\"},\"radialaxis\":{\"gridcolor\":\"white\",\"linecolor\":\"white\",\"ticks\":\"\"}},\"ternary\":{\"bgcolor\":\"#E5ECF6\",\"aaxis\":{\"gridcolor\":\"white\",\"linecolor\":\"white\",\"ticks\":\"\"},\"baxis\":{\"gridcolor\":\"white\",\"linecolor\":\"white\",\"ticks\":\"\"},\"caxis\":{\"gridcolor\":\"white\",\"linecolor\":\"white\",\"ticks\":\"\"}},\"coloraxis\":{\"colorbar\":{\"outlinewidth\":0,\"ticks\":\"\"}},\"colorscale\":{\"sequential\":[[0.0,\"#0d0887\"],[0.1111111111111111,\"#46039f\"],[0.2222222222222222,\"#7201a8\"],[0.3333333333333333,\"#9c179e\"],[0.4444444444444444,\"#bd3786\"],[0.5555555555555556,\"#d8576b\"],[0.6666666666666666,\"#ed7953\"],[0.7777777777777778,\"#fb9f3a\"],[0.8888888888888888,\"#fdca26\"],[1.0,\"#f0f921\"]],\"sequentialminus\":[[0.0,\"#0d0887\"],[0.1111111111111111,\"#46039f\"],[0.2222222222222222,\"#7201a8\"],[0.3333333333333333,\"#9c179e\"],[0.4444444444444444,\"#bd3786\"],[0.5555555555555556,\"#d8576b\"],[0.6666666666666666,\"#ed7953\"],[0.7777777777777778,\"#fb9f3a\"],[0.8888888888888888,\"#fdca26\"],[1.0,\"#f0f921\"]],\"diverging\":[[0,\"#8e0152\"],[0.1,\"#c51b7d\"],[0.2,\"#de77ae\"],[0.3,\"#f1b6da\"],[0.4,\"#fde0ef\"],[0.5,\"#f7f7f7\"],[0.6,\"#e6f5d0\"],[0.7,\"#b8e186\"],[0.8,\"#7fbc41\"],[0.9,\"#4d9221\"],[1,\"#276419\"]]},\"xaxis\":{\"gridcolor\":\"white\",\"linecolor\":\"white\",\"ticks\":\"\",\"title\":{\"standoff\":15},\"zerolinecolor\":\"white\",\"automargin\":true,\"zerolinewidth\":2},\"yaxis\":{\"gridcolor\":\"white\",\"linecolor\":\"white\",\"ticks\":\"\",\"title\":{\"standoff\":15},\"zerolinecolor\":\"white\",\"automargin\":true,\"zerolinewidth\":2},\"scene\":{\"xaxis\":{\"backgroundcolor\":\"#E5ECF6\",\"gridcolor\":\"white\",\"linecolor\":\"white\",\"showbackground\":true,\"ticks\":\"\",\"zerolinecolor\":\"white\",\"gridwidth\":2},\"yaxis\":{\"backgroundcolor\":\"#E5ECF6\",\"gridcolor\":\"white\",\"linecolor\":\"white\",\"showbackground\":true,\"ticks\":\"\",\"zerolinecolor\":\"white\",\"gridwidth\":2},\"zaxis\":{\"backgroundcolor\":\"#E5ECF6\",\"gridcolor\":\"white\",\"linecolor\":\"white\",\"showbackground\":true,\"ticks\":\"\",\"zerolinecolor\":\"white\",\"gridwidth\":2}},\"shapedefaults\":{\"line\":{\"color\":\"#2a3f5f\"}},\"annotationdefaults\":{\"arrowcolor\":\"#2a3f5f\",\"arrowhead\":0,\"arrowwidth\":1},\"geo\":{\"bgcolor\":\"white\",\"landcolor\":\"#E5ECF6\",\"subunitcolor\":\"white\",\"showland\":true,\"showlakes\":true,\"lakecolor\":\"white\"},\"title\":{\"x\":0.05},\"mapbox\":{\"style\":\"light\"}}},\"xaxis\":{\"anchor\":\"y\",\"domain\":[0.0,1.0],\"title\":{\"text\":\"x\"}},\"yaxis\":{\"anchor\":\"x\",\"domain\":[0.0,1.0],\"title\":{\"text\":\"y\"}},\"legend\":{\"tracegroupgap\":0},\"margin\":{\"t\":60}},                        {\"responsive\": true}                    ).then(function(){\n",
              "                            \n",
              "var gd = document.getElementById('ecaa4e3b-e022-4c87-81fe-02a15fb5900b');\n",
              "var x = new MutationObserver(function (mutations, observer) {{\n",
              "        var display = window.getComputedStyle(gd).display;\n",
              "        if (!display || display === 'none') {{\n",
              "            console.log([gd, 'removed!']);\n",
              "            Plotly.purge(gd);\n",
              "            observer.disconnect();\n",
              "        }}\n",
              "}});\n",
              "\n",
              "// Listen for the removal of the full notebook cells\n",
              "var notebookContainer = gd.closest('#notebook-container');\n",
              "if (notebookContainer) {{\n",
              "    x.observe(notebookContainer, {childList: true});\n",
              "}}\n",
              "\n",
              "// Listen for the clearing of the current output cell\n",
              "var outputEl = gd.closest('.output');\n",
              "if (outputEl) {{\n",
              "    x.observe(outputEl, {childList: true});\n",
              "}}\n",
              "\n",
              "                        })                };                            </script>        </div>\n",
              "</body>\n",
              "</html>"
            ]
          },
          "metadata": {}
        }
      ],
      "source": [
        "# Graficar los embedddings en 2D\n",
        "import plotly.graph_objects as go\n",
        "import plotly.express as px\n",
        "\n",
        "vecs, labels = reduce_dimensions(w2v_model)\n",
        "\n",
        "MAX_WORDS=200\n",
        "fig = px.scatter(x=vecs[:MAX_WORDS,0], y=vecs[:MAX_WORDS,1], text=labels[:MAX_WORDS])\n",
        "fig.show(renderer=\"colab\") # esto para plotly en colab"
      ]
    },
    {
      "cell_type": "code",
      "execution_count": 24,
      "metadata": {
        "id": "oAcKvOiQGbsm",
        "colab": {
          "base_uri": "https://localhost:8080/",
          "height": 542
        },
        "outputId": "f7a2658b-4613-4a6b-aba9-e5014b8e23d7"
      },
      "outputs": [
        {
          "output_type": "display_data",
          "data": {
            "text/html": [
              "<html>\n",
              "<head><meta charset=\"utf-8\" /></head>\n",
              "<body>\n",
              "    <div>            <script src=\"https://cdnjs.cloudflare.com/ajax/libs/mathjax/2.7.5/MathJax.js?config=TeX-AMS-MML_SVG\"></script><script type=\"text/javascript\">if (window.MathJax && window.MathJax.Hub && window.MathJax.Hub.Config) {window.MathJax.Hub.Config({SVG: {font: \"STIX-Web\"}});}</script>                <script type=\"text/javascript\">window.PlotlyConfig = {MathJaxConfig: 'local'};</script>\n",
              "        <script charset=\"utf-8\" src=\"https://cdn.plot.ly/plotly-2.24.1.min.js\"></script>                <div id=\"76920480-4641-43fd-b244-d432b18b846e\" class=\"plotly-graph-div\" style=\"height:525px; width:100%;\"></div>            <script type=\"text/javascript\">                                    window.PLOTLYENV=window.PLOTLYENV || {};                                    if (document.getElementById(\"76920480-4641-43fd-b244-d432b18b846e\")) {                    Plotly.newPlot(                        \"76920480-4641-43fd-b244-d432b18b846e\",                        [{\"hovertemplate\":\"x=%{x}\\u003cbr\\u003ey=%{y}\\u003cbr\\u003ez=%{z}\\u003cbr\\u003etext=%{text}\\u003cextra\\u003e\\u003c\\u002fextra\\u003e\",\"legendgroup\":\"\",\"marker\":{\"color\":\"#636efa\",\"symbol\":\"circle\",\"size\":2},\"mode\":\"markers+text\",\"name\":\"\",\"scene\":\"scene\",\"showlegend\":false,\"text\":[\"de\",\"que\",\"la\",\"y\",\"el\",\"a\",\"en\",\"me\",\"no\",\"los\",\"un\",\"lo\",\"las\",\"se\",\"con\",\"una\",\"por\",\"para\",\"del\",\"es\",\"al\",\"pero\",\"mi\",\"peeta\",\"si\",\"m\\u00e1s\",\"como\",\"le\",\"su\",\"cuando\",\"sin\",\"est\\u00e1\",\"nos\",\"ha\",\"porque\",\"aunque\",\"yo\",\"despu\\u00e9s\",\"\\u00e9l\",\"todo\",\"distrito\",\"hasta\",\"ya\",\"as\\u00ed\",\"s\\u00e9\",\"s\\u00f3lo\",\"qu\\u00e9\",\"tengo\",\"haymitch\",\"te\",\"dos\",\"algo\",\"sobre\",\"m\\u00ed\",\"he\",\"nada\",\"vez\",\"tiene\",\"tan\",\"estoy\",\"o\",\"embargo\",\"hay\",\"todos\",\"puedo\",\"eso\",\"poco\",\"ella\",\"sus\",\"veo\",\"dice\",\"bien\",\"ni\",\"hace\",\"rue\",\"ahora\",\"muy\",\"momento\",\"mis\",\"mientras\",\"antes\",\"da\",\"mucho\",\"han\",\"chico\",\"cato\",\"s\\u00ed\",\"agua\",\"capitolio\",\"son\",\"ser\",\"\\u00bfqu\\u00e9\",\"tributos\",\"cabeza\",\"hab\\u00eda\",\"noche\",\"chica\",\"entonces\",\"prim\",\"menos\",\"tambi\\u00e9n\",\"otro\",\"madre\",\"ojos\",\"unos\",\"puede\",\"hecho\",\"mejor\",\"quiz\\u00e1\",\"comida\",\"est\\u00e1n\",\"c\\u00f3mo\",\"entre\",\"cuenta\",\"juegos\",\"doy\",\"hacer\",\"cinna\",\"siempre\",\"mano\",\"aqu\\u00ed\",\"casa\",\"gale\",\"tiempo\",\"d\\u00eda\",\"estar\",\"casi\",\"otra\",\"parece\",\"creo\",\"desde\",\"12\",\"bueno\",\"parte\",\"durante\",\"cara\",\"era\",\"suelo\",\"responde\",\"estaba\",\"verdad\",\"nunca\",\"podr\\u00eda\",\"hacia\",\"demasiado\",\"ellos\",\"esta\",\"siento\",\"lado\",\"nadie\",\"claro\",\"ver\",\"manos\",\"uno\",\"pregunto\",\"digo\",\"quiero\",\"effie\",\"bosque\",\"saco\",\"\\u00e1rbol\",\"profesionales\",\"decir\",\"oigo\",\"cosas\",\"gente\",\"les\",\"idea\",\"hambre\",\"cosa\",\"alguien\",\"este\",\"katniss\",\"arco\",\"soy\",\"voz\",\"bastante\",\"pelo\",\"pan\",\"dentro\",\"esto\",\"tu\",\"alg\\u00fan\",\"primera\",\"justo\",\"ma\\u00f1ana\",\"pregunta\",\"haber\",\"seguro\",\"sea\",\"adem\\u00e1s\",\"t\\u00fa\",\"padre\",\"unas\",\"estadio\",\"sol\",\"vida\",\"donde\",\"nosotros\",\"mismo\"],\"x\":[10.325349807739258,-15.178771018981934,9.069731712341309,1.2448660135269165,8.910083770751953,3.646723747253418,3.7826991081237793,-5.668216228485107,-23.707277297973633,31.213489532470703,16.347942352294922,-16.808622360229492,35.76533126831055,8.728144645690918,2.0818674564361572,5.733111381530762,-11.374419212341309,-5.35217809677124,13.989265441894531,-23.896230697631836,6.128512382507324,-17.885292053222656,-0.07206711918115616,-14.988007545471191,-18.724140167236328,-10.952936172485352,-3.1658594608306885,-10.159112930297852,-5.472813129425049,5.265855312347412,-9.554424285888672,-24.404705047607422,7.319714069366455,-23.43745231628418,-10.626690864562988,-7.269716739654541,-22.564098358154297,-2.5041563510894775,-6.392982482910156,-6.205583095550537,20.806880950927734,2.5926260948181152,-9.747373580932617,-9.713093757629395,-9.281497955322266,-10.882837295532227,-32.1363410949707,-34.16197967529297,-18.920984268188477,-38.153438568115234,22.89766502380371,-9.355855941772461,13.809488296508789,-9.872598648071289,-28.66771697998047,-24.38735008239746,1.5970414876937866,-33.45250701904297,-12.42385482788086,-23.747398376464844,-6.166751384735107,-15.714703559875488,20.1971378326416,27.660198211669922,-34.066585540771484,-11.066551208496094,-3.8832414150238037,-2.4885060787200928,5.389247894287109,9.953288078308105,-9.554689407348633,-31.205768585205078,-36.92729949951172,1.5439764261245728,-4.507636070251465,-18.150707244873047,-13.59349250793457,-2.736398458480835,32.12559127807617,-5.352408409118652,-3.3866519927978516,16.816864013671875,-35.482017517089844,-21.7804012298584,24.487993240356445,3.869757652282715,-13.463201522827148,20.305654525756836,12.639921188354492,30.334686279296875,-6.487798690795898,-25.889284133911133,29.274682998657227,-2.5224945545196533,-21.61865997314453,5.66767692565918,6.672964096069336,-5.608870029449463,-5.498999118804932,41.31271743774414,-8.702219009399414,11.305201530456543,-3.2688302993774414,32.081336975097656,36.79875946044922,-24.740781784057617,-33.53273391723633,-14.252532958984375,-18.098962783813477,-3.29167103767395,3.4385664463043213,-40.720314025878906,24.917661666870117,-9.535928726196289,23.026639938354492,16.734949111938477,-25.146469116210938,-12.671605110168457,-14.474334716796875,21.603805541992188,-22.700485229492188,9.035945892333984,-11.325855255126953,-33.89024353027344,11.004169464111328,-26.296131134033203,17.338329315185547,-2.545180320739746,-9.764554023742676,-12.072013854980469,1.2998844385147095,18.195554733276367,-30.497806549072266,-2.7684285640716553,10.080262184143066,14.408317565917969,-30.472394943237305,2.72927188873291,-2.483228921890259,5.515236854553223,-18.854204177856445,-26.985626220703125,-32.954345703125,10.220470428466797,-27.957792282104492,-12.210550308227539,-0.02580225095152855,-7.927078723907471,-5.285376071929932,-13.711275100708008,-23.067541122436523,-21.724578857421875,34.70530319213867,24.281230926513672,-28.51990509033203,-22.47889518737793,-35.00784683227539,-12.053257942199707,8.315829277038574,16.371143341064453,0.6449243426322937,18.812957763671875,-24.847278594970703,12.104081153869629,30.704463958740234,-2.2302746772766113,-39.73977279663086,-12.836180686950684,-10.877313613891602,-12.270670890808105,-9.772859573364258,-7.230275630950928,-20.25458526611328,12.447663307189941,-36.69694900512695,-11.21337890625,-19.864179611206055,15.761857032775879,9.662544250488281,7.398377895355225,-16.617870330810547,-44.54086685180664,-6.139088153839111,11.020374298095703,13.105592727661133,3.795660972595215,-15.3156156539917,-16.549678802490234,-11.035345077514648,-3.1372032165527344,13.407783508300781,-25.546472549438477,-6.991301536560059,41.95615005493164,-5.623344421386719,18.515302658081055,-8.403081893920898,13.351051330566406,9.902562141418457,-16.24163818359375],\"y\":[-2.998783826828003,-1.2259529829025269,20.468828201293945,11.482012748718262,-7.682042598724365,30.669214248657227,-3.0836355686187744,8.311701774597168,4.622958183288574,-20.403709411621094,0.12712426483631134,2.7366786003112793,-10.777639389038086,-25.3554630279541,41.98837661743164,7.794199466705322,18.420686721801758,15.919503211975098,-18.688810348510742,6.6335673332214355,-18.2081241607666,9.60126781463623,38.501625061035156,-2.324655532836914,-30.296113967895508,34.941890716552734,-24.689926147460938,-35.97945022583008,31.741697311401367,-25.42425537109375,30.649784088134766,-7.858611106872559,-24.957143783569336,-0.9929364919662476,-8.042020797729492,-2.338918924331665,5.310091018676758,13.561717987060547,4.044044017791748,-36.05204772949219,-21.400285720825195,-20.90863037109375,-20.014448165893555,24.352869033813477,6.439466953277588,-1.5007319450378418,-16.333322525024414,10.676050186157227,-27.555706024169922,-10.82737922668457,-14.444506645202637,9.600693702697754,-16.23320198059082,12.977025032043457,-0.9267848134040833,9.64972972869873,12.269454002380371,9.608792304992676,12.385188102722168,29.246723175048828,-14.658980369567871,24.60259437561035,-31.031330108642578,-28.787342071533203,10.50890827178955,-11.771257400512695,2.2294235229492188,-20.542442321777344,-38.92812728881836,19.795494079589844,-17.26121711730957,-25.71379852294922,14.125027656555176,-22.931154251098633,18.036054611206055,-28.835418701171875,10.407478332519531,-15.234314918518066,7.323587894439697,-41.16251754760742,13.46031379699707,-27.390188217163086,19.056936264038086,-6.317842483520508,-14.5155029296875,-21.133962631225586,-10.489156723022461,8.784491539001465,-13.698369026184082,-10.060394287109375,-27.720369338989258,-15.52320384979248,-27.149423599243164,34.14535903930664,0.922127366065979,10.959383964538574,-8.282187461853027,-5.166646957397461,7.688552379608154,-1.267590880393982,-5.183562278747559,-13.154324531555176,16.227136611938477,24.968585968017578,-21.565288543701172,0.026181135326623917,-18.846315383911133,-1.1743894815444946,-6.797679901123047,-36.15558624267578,-32.117713928222656,-9.897862434387207,-4.765225410461426,2.503943681716919,-28.182592391967773,-1.0079081058502197,22.557796478271484,-7.702248573303223,3.1389505863189697,35.12407302856445,-0.9485463500022888,-36.029335021972656,4.29807186126709,13.141671180725098,-13.056194305419922,23.498079299926758,-11.21872329711914,-4.800684452056885,-13.852916717529297,1.5776787996292114,4.326964855194092,-22.617063522338867,-12.530619621276855,-11.473435401916504,-25.221786499023438,31.323768615722656,2.3343210220336914,16.71504783630371,-13.26636028289795,-38.5170783996582,-12.811014175415039,-15.436086654663086,-13.18701457977295,29.408245086669922,29.718095779418945,27.667194366455078,2.9473671913146973,15.321910858154297,17.417478561401367,27.794292449951172,-22.545461654663086,31.313844680786133,12.130680084228516,-36.22990417480469,-3.1182808876037598,-16.677759170532227,5.303451061248779,-30.24341583251953,-7.485870361328125,31.64131736755371,27.280420303344727,-31.15861701965332,9.610028266906738,-19.62266731262207,1.054924726486206,-20.598447799682617,-16.139074325561523,-19.646615982055664,-27.84827423095703,-12.906970024108887,3.9751439094543457,-19.370227813720703,-6.4961042404174805,27.706634521484375,3.3372116088867188,11.00851058959961,15.03040885925293,10.730504035949707,-3.0589733123779297,42.8918571472168,-4.080198287963867,-7.948670387268066,19.95616340637207,-1.540090799331665,20.066286087036133,10.369978904724121,-19.72165298461914,-6.31389856338501,-22.457521438598633,-31.607736587524414,-39.946311950683594,-19.24380874633789,11.94080924987793,5.2424492835998535,11.633912086486816,-1.4322624206542969,-8.707979202270508,-3.912308931350708,-26.27338409423828,-19.010828018188477],\"z\":[3.7491273880004883,17.762948989868164,-15.675857543945312,-3.014209270477295,0.8715214729309082,-17.532424926757812,-1.7924895286560059,13.011802673339844,21.784875869750977,3.9871633052825928,36.750919342041016,19.511934280395508,-9.661463737487793,-34.842872619628906,9.445348739624023,-6.735332012176514,19.731979370117188,-21.267467498779297,-14.136696815490723,-18.585031509399414,2.930774688720703,9.320480346679688,-13.50246524810791,11.030547142028809,6.694650650024414,15.740896224975586,1.4289504289627075,-15.303979873657227,-14.82706356048584,-9.38455867767334,0.6334572434425354,24.8085994720459,-1.208693504333496,-23.7747745513916,4.784472942352295,8.452409744262695,13.456393241882324,2.242995500564575,8.580671310424805,12.802530288696289,-29.353557586669922,13.539100646972656,-14.410318374633789,11.6719970703125,29.863073348999023,29.0936336517334,9.476689338684082,-8.564703941345215,18.280752182006836,3.0682146549224854,9.931729316711426,-15.056939125061035,8.97458553314209,28.40667724609375,-33.20881271362305,23.767841339111328,-21.423171997070312,27.479433059692383,-20.038389205932617,-2.062384605407715,-19.39640235900879,-14.801319122314453,-18.552019119262695,13.756168365478516,-1.910872220993042,31.742923736572266,16.795698165893555,-36.02680969238281,6.688046455383301,32.28993606567383,25.028926849365234,9.527947425842285,6.848743438720703,29.924753189086914,24.409481048583984,-2.8214313983917236,-26.492839813232422,12.694190979003906,-4.557934284210205,4.170731544494629,-5.992491722106934,21.524410247802734,-12.89781665802002,-35.09710693359375,-26.404630661010742,-29.083837509155273,18.261873245239258,3.9032866954803467,-0.3179689943790436,1.260884404182434,-18.181053161621094,14.693073272705078,-1.9040871858596802,10.346673011779785,-33.98621368408203,-33.79827117919922,-31.02583885192871,36.716426849365234,3.807792901992798,-10.426398277282715,-31.06504249572754,-6.681360721588135,-28.756149291992188,10.502988815307617,15.68731689453125,-12.193581581115723,-11.086801528930664,-18.781368255615234,-14.069708824157715,-4.828205108642578,11.200556755065918,9.98681640625,32.22291946411133,38.30268478393555,1.264163613319397,24.83249855041504,15.575669288635254,24.825565338134766,-30.177217483520508,10.542192459106445,16.239213943481445,-17.944759368896484,3.1888811588287354,-18.67371368408203,-12.70250129699707,-5.58570671081543,6.564031600952148,-40.687660217285156,6.400542259216309,-2.578740119934082,41.924800872802734,-19.131080627441406,29.455595016479492,-31.647502899169922,13.136685371398926,13.060690879821777,-17.781585693359375,1.5782264471054077,31.21718406677246,-3.341334581375122,4.767775535583496,-9.27889633178711,-2.0174343585968018,-6.694488048553467,5.330319881439209,-24.94184112548828,-34.509124755859375,3.3593835830688477,15.968332290649414,15.568493843078613,22.00322914123535,18.571496963500977,-0.5817505717277527,4.892189025878906,6.299387454986572,0.8298174142837524,4.0780534744262695,14.590522766113281,-18.642799377441406,22.232013702392578,-1.2976409196853638,5.236299991607666,7.76420259475708,28.55465316772461,-7.812673568725586,-18.887741088867188,-5.793115139007568,-20.4550838470459,-25.27243995666504,-21.886653900146484,-18.979055404663086,3.7699146270751953,14.47513484954834,28.95598793029785,-15.156159400939941,17.373321533203125,-22.83993911743164,27.85030174255371,-5.369925498962402,-0.6643906235694885,34.55702209472656,-3.5925960540771484,33.403724670410156,-37.66511535644531,-31.99677848815918,-37.16960906982422,10.648959159851074,-28.2589054107666,-8.161076545715332,3.121339797973633,-7.612636566162109,6.6317830085754395,-33.87418746948242,9.259028434753418,37.53158950805664,-13.724418640136719,-12.636540412902832,-27.360801696777344,-19.219575881958008,-12.703303337097168],\"type\":\"scatter3d\"}],                        {\"template\":{\"data\":{\"histogram2dcontour\":[{\"type\":\"histogram2dcontour\",\"colorbar\":{\"outlinewidth\":0,\"ticks\":\"\"},\"colorscale\":[[0.0,\"#0d0887\"],[0.1111111111111111,\"#46039f\"],[0.2222222222222222,\"#7201a8\"],[0.3333333333333333,\"#9c179e\"],[0.4444444444444444,\"#bd3786\"],[0.5555555555555556,\"#d8576b\"],[0.6666666666666666,\"#ed7953\"],[0.7777777777777778,\"#fb9f3a\"],[0.8888888888888888,\"#fdca26\"],[1.0,\"#f0f921\"]]}],\"choropleth\":[{\"type\":\"choropleth\",\"colorbar\":{\"outlinewidth\":0,\"ticks\":\"\"}}],\"histogram2d\":[{\"type\":\"histogram2d\",\"colorbar\":{\"outlinewidth\":0,\"ticks\":\"\"},\"colorscale\":[[0.0,\"#0d0887\"],[0.1111111111111111,\"#46039f\"],[0.2222222222222222,\"#7201a8\"],[0.3333333333333333,\"#9c179e\"],[0.4444444444444444,\"#bd3786\"],[0.5555555555555556,\"#d8576b\"],[0.6666666666666666,\"#ed7953\"],[0.7777777777777778,\"#fb9f3a\"],[0.8888888888888888,\"#fdca26\"],[1.0,\"#f0f921\"]]}],\"heatmap\":[{\"type\":\"heatmap\",\"colorbar\":{\"outlinewidth\":0,\"ticks\":\"\"},\"colorscale\":[[0.0,\"#0d0887\"],[0.1111111111111111,\"#46039f\"],[0.2222222222222222,\"#7201a8\"],[0.3333333333333333,\"#9c179e\"],[0.4444444444444444,\"#bd3786\"],[0.5555555555555556,\"#d8576b\"],[0.6666666666666666,\"#ed7953\"],[0.7777777777777778,\"#fb9f3a\"],[0.8888888888888888,\"#fdca26\"],[1.0,\"#f0f921\"]]}],\"heatmapgl\":[{\"type\":\"heatmapgl\",\"colorbar\":{\"outlinewidth\":0,\"ticks\":\"\"},\"colorscale\":[[0.0,\"#0d0887\"],[0.1111111111111111,\"#46039f\"],[0.2222222222222222,\"#7201a8\"],[0.3333333333333333,\"#9c179e\"],[0.4444444444444444,\"#bd3786\"],[0.5555555555555556,\"#d8576b\"],[0.6666666666666666,\"#ed7953\"],[0.7777777777777778,\"#fb9f3a\"],[0.8888888888888888,\"#fdca26\"],[1.0,\"#f0f921\"]]}],\"contourcarpet\":[{\"type\":\"contourcarpet\",\"colorbar\":{\"outlinewidth\":0,\"ticks\":\"\"}}],\"contour\":[{\"type\":\"contour\",\"colorbar\":{\"outlinewidth\":0,\"ticks\":\"\"},\"colorscale\":[[0.0,\"#0d0887\"],[0.1111111111111111,\"#46039f\"],[0.2222222222222222,\"#7201a8\"],[0.3333333333333333,\"#9c179e\"],[0.4444444444444444,\"#bd3786\"],[0.5555555555555556,\"#d8576b\"],[0.6666666666666666,\"#ed7953\"],[0.7777777777777778,\"#fb9f3a\"],[0.8888888888888888,\"#fdca26\"],[1.0,\"#f0f921\"]]}],\"surface\":[{\"type\":\"surface\",\"colorbar\":{\"outlinewidth\":0,\"ticks\":\"\"},\"colorscale\":[[0.0,\"#0d0887\"],[0.1111111111111111,\"#46039f\"],[0.2222222222222222,\"#7201a8\"],[0.3333333333333333,\"#9c179e\"],[0.4444444444444444,\"#bd3786\"],[0.5555555555555556,\"#d8576b\"],[0.6666666666666666,\"#ed7953\"],[0.7777777777777778,\"#fb9f3a\"],[0.8888888888888888,\"#fdca26\"],[1.0,\"#f0f921\"]]}],\"mesh3d\":[{\"type\":\"mesh3d\",\"colorbar\":{\"outlinewidth\":0,\"ticks\":\"\"}}],\"scatter\":[{\"fillpattern\":{\"fillmode\":\"overlay\",\"size\":10,\"solidity\":0.2},\"type\":\"scatter\"}],\"parcoords\":[{\"type\":\"parcoords\",\"line\":{\"colorbar\":{\"outlinewidth\":0,\"ticks\":\"\"}}}],\"scatterpolargl\":[{\"type\":\"scatterpolargl\",\"marker\":{\"colorbar\":{\"outlinewidth\":0,\"ticks\":\"\"}}}],\"bar\":[{\"error_x\":{\"color\":\"#2a3f5f\"},\"error_y\":{\"color\":\"#2a3f5f\"},\"marker\":{\"line\":{\"color\":\"#E5ECF6\",\"width\":0.5},\"pattern\":{\"fillmode\":\"overlay\",\"size\":10,\"solidity\":0.2}},\"type\":\"bar\"}],\"scattergeo\":[{\"type\":\"scattergeo\",\"marker\":{\"colorbar\":{\"outlinewidth\":0,\"ticks\":\"\"}}}],\"scatterpolar\":[{\"type\":\"scatterpolar\",\"marker\":{\"colorbar\":{\"outlinewidth\":0,\"ticks\":\"\"}}}],\"histogram\":[{\"marker\":{\"pattern\":{\"fillmode\":\"overlay\",\"size\":10,\"solidity\":0.2}},\"type\":\"histogram\"}],\"scattergl\":[{\"type\":\"scattergl\",\"marker\":{\"colorbar\":{\"outlinewidth\":0,\"ticks\":\"\"}}}],\"scatter3d\":[{\"type\":\"scatter3d\",\"line\":{\"colorbar\":{\"outlinewidth\":0,\"ticks\":\"\"}},\"marker\":{\"colorbar\":{\"outlinewidth\":0,\"ticks\":\"\"}}}],\"scattermapbox\":[{\"type\":\"scattermapbox\",\"marker\":{\"colorbar\":{\"outlinewidth\":0,\"ticks\":\"\"}}}],\"scatterternary\":[{\"type\":\"scatterternary\",\"marker\":{\"colorbar\":{\"outlinewidth\":0,\"ticks\":\"\"}}}],\"scattercarpet\":[{\"type\":\"scattercarpet\",\"marker\":{\"colorbar\":{\"outlinewidth\":0,\"ticks\":\"\"}}}],\"carpet\":[{\"aaxis\":{\"endlinecolor\":\"#2a3f5f\",\"gridcolor\":\"white\",\"linecolor\":\"white\",\"minorgridcolor\":\"white\",\"startlinecolor\":\"#2a3f5f\"},\"baxis\":{\"endlinecolor\":\"#2a3f5f\",\"gridcolor\":\"white\",\"linecolor\":\"white\",\"minorgridcolor\":\"white\",\"startlinecolor\":\"#2a3f5f\"},\"type\":\"carpet\"}],\"table\":[{\"cells\":{\"fill\":{\"color\":\"#EBF0F8\"},\"line\":{\"color\":\"white\"}},\"header\":{\"fill\":{\"color\":\"#C8D4E3\"},\"line\":{\"color\":\"white\"}},\"type\":\"table\"}],\"barpolar\":[{\"marker\":{\"line\":{\"color\":\"#E5ECF6\",\"width\":0.5},\"pattern\":{\"fillmode\":\"overlay\",\"size\":10,\"solidity\":0.2}},\"type\":\"barpolar\"}],\"pie\":[{\"automargin\":true,\"type\":\"pie\"}]},\"layout\":{\"autotypenumbers\":\"strict\",\"colorway\":[\"#636efa\",\"#EF553B\",\"#00cc96\",\"#ab63fa\",\"#FFA15A\",\"#19d3f3\",\"#FF6692\",\"#B6E880\",\"#FF97FF\",\"#FECB52\"],\"font\":{\"color\":\"#2a3f5f\"},\"hovermode\":\"closest\",\"hoverlabel\":{\"align\":\"left\"},\"paper_bgcolor\":\"white\",\"plot_bgcolor\":\"#E5ECF6\",\"polar\":{\"bgcolor\":\"#E5ECF6\",\"angularaxis\":{\"gridcolor\":\"white\",\"linecolor\":\"white\",\"ticks\":\"\"},\"radialaxis\":{\"gridcolor\":\"white\",\"linecolor\":\"white\",\"ticks\":\"\"}},\"ternary\":{\"bgcolor\":\"#E5ECF6\",\"aaxis\":{\"gridcolor\":\"white\",\"linecolor\":\"white\",\"ticks\":\"\"},\"baxis\":{\"gridcolor\":\"white\",\"linecolor\":\"white\",\"ticks\":\"\"},\"caxis\":{\"gridcolor\":\"white\",\"linecolor\":\"white\",\"ticks\":\"\"}},\"coloraxis\":{\"colorbar\":{\"outlinewidth\":0,\"ticks\":\"\"}},\"colorscale\":{\"sequential\":[[0.0,\"#0d0887\"],[0.1111111111111111,\"#46039f\"],[0.2222222222222222,\"#7201a8\"],[0.3333333333333333,\"#9c179e\"],[0.4444444444444444,\"#bd3786\"],[0.5555555555555556,\"#d8576b\"],[0.6666666666666666,\"#ed7953\"],[0.7777777777777778,\"#fb9f3a\"],[0.8888888888888888,\"#fdca26\"],[1.0,\"#f0f921\"]],\"sequentialminus\":[[0.0,\"#0d0887\"],[0.1111111111111111,\"#46039f\"],[0.2222222222222222,\"#7201a8\"],[0.3333333333333333,\"#9c179e\"],[0.4444444444444444,\"#bd3786\"],[0.5555555555555556,\"#d8576b\"],[0.6666666666666666,\"#ed7953\"],[0.7777777777777778,\"#fb9f3a\"],[0.8888888888888888,\"#fdca26\"],[1.0,\"#f0f921\"]],\"diverging\":[[0,\"#8e0152\"],[0.1,\"#c51b7d\"],[0.2,\"#de77ae\"],[0.3,\"#f1b6da\"],[0.4,\"#fde0ef\"],[0.5,\"#f7f7f7\"],[0.6,\"#e6f5d0\"],[0.7,\"#b8e186\"],[0.8,\"#7fbc41\"],[0.9,\"#4d9221\"],[1,\"#276419\"]]},\"xaxis\":{\"gridcolor\":\"white\",\"linecolor\":\"white\",\"ticks\":\"\",\"title\":{\"standoff\":15},\"zerolinecolor\":\"white\",\"automargin\":true,\"zerolinewidth\":2},\"yaxis\":{\"gridcolor\":\"white\",\"linecolor\":\"white\",\"ticks\":\"\",\"title\":{\"standoff\":15},\"zerolinecolor\":\"white\",\"automargin\":true,\"zerolinewidth\":2},\"scene\":{\"xaxis\":{\"backgroundcolor\":\"#E5ECF6\",\"gridcolor\":\"white\",\"linecolor\":\"white\",\"showbackground\":true,\"ticks\":\"\",\"zerolinecolor\":\"white\",\"gridwidth\":2},\"yaxis\":{\"backgroundcolor\":\"#E5ECF6\",\"gridcolor\":\"white\",\"linecolor\":\"white\",\"showbackground\":true,\"ticks\":\"\",\"zerolinecolor\":\"white\",\"gridwidth\":2},\"zaxis\":{\"backgroundcolor\":\"#E5ECF6\",\"gridcolor\":\"white\",\"linecolor\":\"white\",\"showbackground\":true,\"ticks\":\"\",\"zerolinecolor\":\"white\",\"gridwidth\":2}},\"shapedefaults\":{\"line\":{\"color\":\"#2a3f5f\"}},\"annotationdefaults\":{\"arrowcolor\":\"#2a3f5f\",\"arrowhead\":0,\"arrowwidth\":1},\"geo\":{\"bgcolor\":\"white\",\"landcolor\":\"#E5ECF6\",\"subunitcolor\":\"white\",\"showland\":true,\"showlakes\":true,\"lakecolor\":\"white\"},\"title\":{\"x\":0.05},\"mapbox\":{\"style\":\"light\"}}},\"scene\":{\"domain\":{\"x\":[0.0,1.0],\"y\":[0.0,1.0]},\"xaxis\":{\"title\":{\"text\":\"x\"}},\"yaxis\":{\"title\":{\"text\":\"y\"}},\"zaxis\":{\"title\":{\"text\":\"z\"}}},\"legend\":{\"tracegroupgap\":0},\"margin\":{\"t\":60}},                        {\"responsive\": true}                    ).then(function(){\n",
              "                            \n",
              "var gd = document.getElementById('76920480-4641-43fd-b244-d432b18b846e');\n",
              "var x = new MutationObserver(function (mutations, observer) {{\n",
              "        var display = window.getComputedStyle(gd).display;\n",
              "        if (!display || display === 'none') {{\n",
              "            console.log([gd, 'removed!']);\n",
              "            Plotly.purge(gd);\n",
              "            observer.disconnect();\n",
              "        }}\n",
              "}});\n",
              "\n",
              "// Listen for the removal of the full notebook cells\n",
              "var notebookContainer = gd.closest('#notebook-container');\n",
              "if (notebookContainer) {{\n",
              "    x.observe(notebookContainer, {childList: true});\n",
              "}}\n",
              "\n",
              "// Listen for the clearing of the current output cell\n",
              "var outputEl = gd.closest('.output');\n",
              "if (outputEl) {{\n",
              "    x.observe(outputEl, {childList: true});\n",
              "}}\n",
              "\n",
              "                        })                };                            </script>        </div>\n",
              "</body>\n",
              "</html>"
            ]
          },
          "metadata": {}
        }
      ],
      "source": [
        "# Graficar los embedddings en 3D\n",
        "\n",
        "vecs, labels = reduce_dimensions(w2v_model,3)\n",
        "\n",
        "fig = px.scatter_3d(x=vecs[:MAX_WORDS,0], y=vecs[:MAX_WORDS,1], z=vecs[:MAX_WORDS,2],text=labels[:MAX_WORDS])\n",
        "fig.update_traces(marker_size = 2)\n",
        "fig.show(renderer=\"colab\") # esto para plotly en colab"
      ]
    },
    {
      "cell_type": "code",
      "execution_count": 25,
      "metadata": {
        "id": "dzoLGyA3Gbsm"
      },
      "outputs": [],
      "source": [
        "# También se pueden guardar los vectores y labels como tsv para graficar en\n",
        "# http://projector.tensorflow.org/\n",
        "\n",
        "\n",
        "vectors = np.asarray(w2v_model.wv.vectors)\n",
        "labels = list(w2v_model.wv.index_to_key)\n",
        "\n",
        "np.savetxt(\"vectors.tsv\", vectors, delimiter=\"\\t\")\n",
        "\n",
        "with open(\"labels.tsv\", \"w\") as fp:\n",
        "    for item in labels:\n",
        "        fp.write(\"%s\\n\" % item)"
      ]
    },
    {
      "cell_type": "markdown",
      "metadata": {
        "id": "yMM_SHSaZ9N-"
      },
      "source": [
        "### Alumno"
      ]
    },
    {
      "cell_type": "markdown",
      "metadata": {
        "id": "WivQZ3ZCZ9N_"
      },
      "source": [
        "- Crear sus propios vectores con Gensim basado en lo visto en clase con otro dataset.\n",
        "- Probar términos de interés y explicar similitudes en el espacio de embeddings (sacar conclusiones entre palabras similitudes y diferencias).\n",
        "- Graficarlos.\n",
        "- Obtener conclusiones.\n",
        "\n",
        "\n"
      ]
    },
    {
      "cell_type": "markdown",
      "source": [
        "El algoritmo demostró ser eficaz en la tarea de procesar el libro \"Los Juegos del Hambre\", dividiéndolo en oraciones, tokenizando las palabras y creando embeddings utilizando el modelo Skipgram.\n",
        "\n",
        "Se pudieron identificar relaciones coherentes entre palabras que se utilizan en conjunto con frecuencia en el contexto de la trama, como:\n",
        "\n",
        "\"Tributo\" y \"Sobrevivir\", lo que refleja el objetivo central de los tributos en los Juegos del Hambre.\n",
        "\n",
        "\"Distrito\" y \"Arco\", que hace referencia a los diferentes distritos y a la habilidad del personaje principal con el arco y las flechas.\n",
        "\n",
        "A pesar de la eficacia general del algoritmo se observaron limitaciones notables en la identificación de ciertas relaciones clave en el texto. Un ejemplo notable es la falta de una similitud aparente entre \"Katniss\" y \"Peeta\", quienes son personajes principales y aliados a lo largo de la trama.\n",
        "\n",
        "Estas limitaciones sugieren que el modelo de embeddings, en su configuración actual, podría no ser capaz de capturar relaciones más sutiles o específicas entre palabras, incluso cuando estas relaciones son fundamentales en la historia."
      ],
      "metadata": {
        "id": "KIdns92HZ6X5"
      }
    }
  ],
  "metadata": {
    "colab": {
      "provenance": []
    },
    "kernelspec": {
      "display_name": "Python 3 (ipykernel)",
      "language": "python",
      "name": "python3"
    },
    "language_info": {
      "codemirror_mode": {
        "name": "ipython",
        "version": 3
      },
      "file_extension": ".py",
      "mimetype": "text/x-python",
      "name": "python",
      "nbconvert_exporter": "python",
      "pygments_lexer": "ipython3",
      "version": "3.9.6"
    }
  },
  "nbformat": 4,
  "nbformat_minor": 0
}